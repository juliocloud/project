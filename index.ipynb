{
 "cells": [
  {
   "cell_type": "code",
   "execution_count": 41,
   "metadata": {
    "id": "L-jPGfY8MCLt"
   },
   "outputs": [],
   "source": [
    "# Importando libs necessárias\n",
    "import moviepy.editor as mpe\n",
    "import numpy as np"
   ]
  },
  {
   "cell_type": "code",
   "execution_count": null,
   "metadata": {
    "id": "tPJKdlzNMZrc"
   },
   "outputs": [],
   "source": [
    "# Abrindo o video e mostrando\n",
    "video = mpe.VideoFileClip('VIDEO_INICIAL.mp4')\n"
   ]
  },
  {
   "cell_type": "code",
   "execution_count": 44,
   "metadata": {
    "id": "P-WA7duNO094"
   },
   "outputs": [],
   "source": [
    "# Clipando a cada 20s\n",
    "eixo_invertido = False\n",
    "def clip_video_each_x_seconds(video, x):\n",
    "  pseudoclip = video\n",
    "  duration = video.duration\n",
    "  start = 0\n",
    "  end = x\n",
    "  clips = []\n",
    "\n",
    "  while duration >= x:\n",
    "    clip = video.subclip(start, end)\n",
    "    clips.append(clip)\n",
    "    pseudoclip = video.subclip(end)\n",
    "    start += x\n",
    "    end += x\n",
    "    duration = pseudoclip.duration\n",
    "  clips.append(pseudoclip)\n",
    "  return clips\n",
    "\n",
    "clips = clip_video_each_x_seconds(video, 20)\n",
    "\n",
    "\n"
   ]
  },
  {
   "cell_type": "code",
   "execution_count": 45,
   "metadata": {
    "id": "0XcshrLNSMKB"
   },
   "outputs": [],
   "source": [
    "# Invertendo o eixo a cada clipe\n",
    "\n",
    "def relect(frame):\n",
    "    img_refl = np.zeros(shape=frame.shape, dtype=np.uint8)\n",
    "    img_refl[::-1, ::-1] = frame\n",
    "    return img_refl\n",
    "\n",
    "for i in range(len(clips)):\n",
    "  if eixo_invertido:\n",
    "    clips[i] = clips[i].fl_image(relect)\n",
    "    eixo_invertido = False\n",
    "  else:\n",
    "    eixo_invertido = True\n",
    "\n"
   ]
  },
  {
   "cell_type": "code",
   "execution_count": null,
   "metadata": {
    "id": "Kjmk-w0rSqPI"
   },
   "outputs": [],
   "source": [
    "# Concatenando pra formar o final\n",
    "reversed_each_20_seconds = mpe.concatenate_videoclips(clips)\n"
   ]
  },
  {
   "cell_type": "code",
   "execution_count": null,
   "metadata": {
    "id": "H6M1c-5RQxT-"
   },
   "outputs": [],
   "source": [
    "reversed_each_20_seconds.ipython_display(width=480, maxduration=200)"
   ]
  },
  {
   "cell_type": "code",
   "execution_count": 57,
   "metadata": {
    "id": "_CZgvyKpEHTd"
   },
   "outputs": [],
   "source": [
    "# Clipando a cada 30 segundos e diminuindo volume. Garantindo que os ultimos 10s vao ter silencio\n",
    "new_time_to_clip = 30\n",
    "_30_seconds_clips = clip_video_each_x_seconds(reversed_each_20_seconds, new_time_to_clip)\n",
    "current_volume = 1\n",
    "\n",
    "for i in range(len(_30_seconds_clips)):\n",
    "  _30_seconds_clips[i] = _30_seconds_clips[i].volumex(current_volume)\n",
    "  if i == len(_30_seconds_clips) - 1:\n",
    "    if _30_seconds_clips[i].duration <= 10:\n",
    "      _30_seconds_clips[i] = _30_seconds_clips[i].volumex(0)\n",
    "    else:\n",
    "      subclip1 = _30_seconds_clips[i].subclip(0, _30_seconds_clips[i].duration - 10)\n",
    "      subclip1 = subclip1.volumex(current_volume)\n",
    "      subclip2 = _30_seconds_clips[i].subclip(_30_seconds_clips[i].duration - 10, _30_seconds_clips[i].duration)\n",
    "      subclip2 = subclip2.volumex(0)\n",
    "      _30_seconds_clips[i] = mpe.concatenate_videoclips([subclip1, subclip2])\n",
    "  current_volume -= 1/len(_30_seconds_clips)\n",
    "\n",
    "\n",
    "coumpound_30_seconds = mpe.concatenate_videoclips(_30_seconds_clips)\n",
    "\n",
    "coumpound_30_seconds.ipython_display(width=480, maxduration=200)\n",
    "\n"
   ]
  },
  {
   "cell_type": "code",
   "execution_count": null,
   "metadata": {
    "id": "zouQwbBKaLrM"
   },
   "outputs": [],
   "source": [
    "# Cortando apos o primeiro minuto\n",
    "from_60_to_80 = coumpound_30_seconds.subclip(60, 80)\n",
    "\n",
    "concated = mpe.concatenate_videoclips([coumpound_30_seconds, from_60_to_80])\n",
    "concated.ipython_display(width=480, maxduration=200)"
   ]
  }
 ],
 "metadata": {
  "colab": {
   "provenance": []
  },
  "kernelspec": {
   "display_name": "Python 3",
   "name": "python3"
  },
  "language_info": {
   "name": "python"
  }
 },
 "nbformat": 4,
 "nbformat_minor": 0
}
